{
  "cells": [
    {
      "cell_type": "code",
      "execution_count": 24,
      "metadata": {
        "id": "B7q2faIGNG_R"
      },
      "outputs": [],
      "source": [
        "import scipy\n",
        "import scipy.io.wavfile\n",
        "import numpy as np\n",
        "import scipy.stats as stats\n",
        "from scipy import signal\n",
        "import IPython.display as ipd\n",
        "import matplotlib.pyplot as plt\n",
        "import pandas as pd"
      ]
    },
    {
      "cell_type": "markdown",
      "metadata": {
        "id": "bEopynKe64cc"
      },
      "source": [
        "### Helper functions"
      ]
    },
    {
      "cell_type": "markdown",
      "metadata": {},
      "source": [
        "##### Miscellaneous"
      ]
    },
    {
      "cell_type": "code",
      "execution_count": 25,
      "metadata": {
        "id": "1iqz0ZOvUyB3"
      },
      "outputs": [],
      "source": [
        "def gen_test_wave(fs,f,amp,t,kind):\n",
        "  N = int(t * fs)\n",
        "  n = np.arange(0,N/fs,1/fs)\n",
        "  if kind=='sin':\n",
        "    x = np.sin(2 * np.pi * f * n) * amp\n",
        "  elif kind == 'cos':\n",
        "    x = np.cos(2 * np.pi * f * n) * amp\n",
        "  elif kind == 'delta':\n",
        "    x = np.zeros(N)\n",
        "    x[0] = 1\n",
        "  return x"
      ]
    },
    {
      "cell_type": "code",
      "execution_count": 26,
      "metadata": {
        "id": "ePf4FkvKimOS"
      },
      "outputs": [],
      "source": [
        "def read_to_linear(path,bd,lin=0):\n",
        "  fs,x = scipy.io.wavfile.read(path)\n",
        "  if lin:\n",
        "    return fs,x\n",
        "  if bd == 16:\n",
        "    x = x.astype(np.float32, order='C') / 32768.0  \n",
        "  elif bd == 32:\n",
        "    x = x.astype(np.float32, order='C') / 2147354889.0 \n",
        "  return fs,x "
      ]
    },
    {
      "cell_type": "markdown",
      "metadata": {},
      "source": [
        "##### Plot functions"
      ]
    },
    {
      "cell_type": "code",
      "execution_count": 27,
      "metadata": {
        "id": "XJqd3B6zj4yK"
      },
      "outputs": [],
      "source": [
        "def multiple_formatter(denominator=2, number=np.pi, latex='\\pi'):\n",
        "    def gcd(a, b):\n",
        "        while b:\n",
        "            a, b = b, a%b\n",
        "        return a\n",
        "    def _multiple_formatter(x, pos):\n",
        "        den = denominator\n",
        "        num = np.int(np.rint(den*x/number))\n",
        "        com = gcd(num,den)\n",
        "        (num,den) = (int(num/com),int(den/com))\n",
        "        if den==1:\n",
        "            if num==0:\n",
        "                return r'$0$'\n",
        "            if num==1:\n",
        "                return r'$%s$'%latex\n",
        "            elif num==-1:\n",
        "                return r'$-%s$'%latex\n",
        "            else:\n",
        "                return r'$%s%s$'%(num,latex)\n",
        "        else:\n",
        "            if num==1:\n",
        "                return r'$\\frac{%s}{%s}$'%(latex,den)\n",
        "            elif num==-1:\n",
        "                return r'$\\frac{-%s}{%s}$'%(latex,den)\n",
        "            else:\n",
        "                return r'$\\frac{%s%s}{%s}$'%(num,latex,den)\n",
        "    return _multiple_formatter\n",
        "    \n",
        "# class Multiple:\n",
        "#     def __init__(self, denominator=2, number=np.pi, latex='\\pi'):\n",
        "#         self.denominator = denominator\n",
        "#         self.number = number\n",
        "#         self.latex = latex\n",
        "\n",
        "#     def locator(self):\n",
        "#         return plt.MultipleLocator(self.number / self.denominator)\n",
        "        \n",
        "#     def formatter(self):\n",
        "#         return plt.FuncFormatter(multiple_formatter(self.denominator, self.number, self.latex))"
      ]
    },
    {
      "cell_type": "code",
      "execution_count": 28,
      "metadata": {
        "id": "3Y742MYSIC7R"
      },
      "outputs": [],
      "source": [
        "def plot_fft(audio,fs,title='output spectrum'):\n",
        "  N = len(audio)\n",
        "  w = scipy.signal.windows.hann((N))\n",
        "  w_fft = scipy.fft.fft(w*audio)\n",
        "  xf = scipy.fft.fftfreq(N, 1/fs)[:N//2]\n",
        "  plt.plot(xf, 2.0/N * np.abs(w_fft[0:N//2]),label='fft hann window')\n",
        "  plt.title(title)\n",
        "  plt.legend()\n",
        "  plt.show()"
      ]
    },
    {
      "cell_type": "code",
      "execution_count": 29,
      "metadata": {},
      "outputs": [],
      "source": [
        "def freqz(x,fs):\n",
        "    w,h = scipy.signal.freqz(x,1,4096)\n",
        "    H = 20 * np.log10(np.abs(h))\n",
        "    f = w / (2 * np.pi) * fs\n",
        "    angles = np.unwrap(np.angle((h)))\n",
        "    return f,H,angles\n",
        "\n",
        "def plot_magnitude_response(f,H,label='magnitude',c='b',title=''):\n",
        "    ax = plt.subplot(111)\n",
        "    # magnitude response\n",
        "    plt.plot(f,H,label=label,color=c)\n",
        "    ax.semilogx(f, H)\n",
        "    plt.ylabel('Amplitude [dB]')\n",
        "    plt.xlabel('Frequency [hz]')\n",
        "    plt.title(title + \"Magnitude response\")\n",
        "\n",
        "def plot_phase_response(f,angles,mult_locater=(np.pi/2),denom=2,label='phase',c='b',title=''):\n",
        "    ax = plt.subplot(111)\n",
        "    plt.plot(f,angles,label=label,color=c)\n",
        "    ax.semilogx(f, angles)\n",
        "    plt.ylabel('Angle [radians]')\n",
        "    plt.xlabel('Frequency [hz]')\n",
        "    plt.title(title + \"Phase response\")\n",
        "    ax.yaxis.set_major_locator(plt.MultipleLocator(mult_locater))\n",
        "    ax.yaxis.set_major_formatter(plt.FuncFormatter(multiple_formatter(denominator=denom)))"
      ]
    },
    {
      "cell_type": "code",
      "execution_count": 30,
      "metadata": {
        "id": "s7SxTrVbZpv4"
      },
      "outputs": [],
      "source": [
        "def plot_bode(x, fs):\n",
        "    f,H,angles = freqz(x,fs)\n",
        "    # Plot the magnitude response of a signal x.\n",
        "    plot_magnitude_response(f,H)\n",
        "    plt.show()\n",
        "    # phase response\n",
        "    plot_phase_response(f,angles)\n",
        "    plt.show()"
      ]
    },
    {
      "cell_type": "code",
      "execution_count": 31,
      "metadata": {},
      "outputs": [],
      "source": [
        "def ltspice_freqz(filename, out_label='V(vout)'):\n",
        "    def imag_to_mag(z):\n",
        "        # Returns the maginude of an imaginary number.\n",
        "        a, b = map(float, z.split(','))\n",
        "        return 20*np.log10(np.sqrt(a*a + b*b))\n",
        "\n",
        "    def imag_to_phase(z):\n",
        "        a,b = map(float,z.split(','))\n",
        "        return np.arctan2(b,a)\n",
        "\n",
        "    x = pd.read_csv(filename, delim_whitespace=True)\n",
        "    x['H_dB'] = x[out_label].apply(imag_to_mag)\n",
        "    x['Phase'] = x[out_label].apply(imag_to_phase)\n",
        "    f = np.array(x['Freq.'])\n",
        "    H_db = np.array(x['H_dB'])\n",
        "    angles = np.array(x['Phase'])\n",
        "    return f,H_db,angles"
      ]
    },
    {
      "cell_type": "code",
      "execution_count": 32,
      "metadata": {},
      "outputs": [],
      "source": [
        "def plot_ltspice_bode(filename,mult_locater=(np.pi/2),denom=2):\n",
        "\n",
        "    f,H_db,angles = ltspice_freqz(filename)\n",
        "    plot_magnitude_response(f,H_db)\n",
        "    plt.show()\n",
        "\n",
        "    plot_phase_response(f,angles,mult_locater=mult_locater,denom=denom)\n",
        "    plt.show()"
      ]
    },
    {
      "cell_type": "code",
      "execution_count": 33,
      "metadata": {},
      "outputs": [],
      "source": [
        "def compare_vs_spice(x,fs,spicepath,mult_locater=(np.pi/2),denom=2,title=''):\n",
        "    wdf_f, wdf_H, wdf_angles = freqz(x,fs)\n",
        "    spice_f,spice_H,spice_angles = ltspice_freqz(spicepath)\n",
        "    plot_magnitude_response(wdf_f,wdf_H,label='wdf')\n",
        "    plot_magnitude_response(spice_f,spice_H,label='spice',c='orange',title=title)\n",
        "    plt.legend()\n",
        "    plt.show()\n",
        "\n",
        "    plot_phase_response(wdf_f,wdf_angles,label='wdf')\n",
        "    plot_phase_response(spice_f,spice_angles,label='spice',mult_locater=mult_locater,denom=denom,c='orange',title=title)\n",
        "    plt.legend()\n",
        "    plt.show()"
      ]
    },
    {
      "cell_type": "markdown",
      "metadata": {
        "id": "e29g70CuN3zK"
      },
      "source": [
        "### Base one port object"
      ]
    },
    {
      "cell_type": "code",
      "execution_count": 34,
      "metadata": {
        "id": "wDX0TNGqMm4W"
      },
      "outputs": [],
      "source": [
        "class WDFOnePort(object):\n",
        "    def __init__(self):\n",
        "        # Incident- and reflected wave variables.\n",
        "        self.a, self.b = 0, 0\n",
        "        self.parent = None\n",
        "\n",
        "    def connect_to_parent(self,p):\n",
        "      self.parent = p\n",
        "\n",
        "    def propagate_impedance_change(self):\n",
        "      self.calc_impedance()\n",
        "      if self.parent != None:\n",
        "        self.parent.propagate_impedance_change()\n",
        "              \n",
        "    def wave_to_voltage(self):\n",
        "        voltage = (self.a + self.b) / 2\n",
        "        return voltage\n",
        "\n",
        "    def wave_to_current(self):\n",
        "        current = (1 / 2 * self.Rp) * (self.a + self.b)\n",
        "        return current\n",
        "\n",
        "    def __str__(self):\n",
        "      return 'wdf one port'\n",
        "\n",
        "    def __repr__(self):\n",
        "      return self.__str__()\n",
        "\n",
        "    def calc_impedance(self):\n",
        "      pass\n",
        "\n",
        "    def set_incident_wave(self,a):\n",
        "      pass\n",
        "\n",
        "    def get_reflected_wave(self):\n",
        "      pass"
      ]
    },
    {
      "cell_type": "markdown",
      "metadata": {
        "id": "TZkuJV75N6Ib"
      },
      "source": [
        "### Resistor"
      ]
    },
    {
      "cell_type": "code",
      "execution_count": 35,
      "metadata": {
        "id": "sxUXHLjOM1mp"
      },
      "outputs": [],
      "source": [
        "class Resistor(WDFOnePort):\n",
        "    def __init__(self, R):\n",
        "      WDFOnePort.__init__(self)\n",
        "      self.Rval = R  # Port resistence set to physical resistance\n",
        "      self.calc_impedance()\n",
        "\n",
        "    def calc_impedance(self):\n",
        "      self.Rp = self.Rval\n",
        "\n",
        "    def set_resistance(self,R):\n",
        "      if self.Rp == R:\n",
        "        return\n",
        "      self.Rp = R\n",
        "      self.propagate_impedance_change()\n",
        "    \n",
        "    def __str__(self):\n",
        "      return str(self.Rp) + \" Ohm Resistor\"\n",
        "    \n",
        "    def set_incident_wave(self,a):\n",
        "      self.a = a\n",
        "\n",
        "    def get_reflected_wave(self):\n",
        "      self.b = 0\n",
        "      return self.b"
      ]
    },
    {
      "cell_type": "markdown",
      "metadata": {
        "id": "yl1mntTtN8ZB"
      },
      "source": [
        "### Capacitor & inductor"
      ]
    },
    {
      "cell_type": "code",
      "execution_count": 36,
      "metadata": {
        "id": "GuR9k4-DM6Gd"
      },
      "outputs": [],
      "source": [
        "class Capacitor(WDFOnePort):\n",
        "    def __init__(self, C, fs, tolerance=0,sSize=10):\n",
        "      WDFOnePort.__init__(self)\n",
        "      # gaussian distribution of vals below and above given C according to tolerance \n",
        "      # random sample is selected and added to given capacitance value\n",
        "      self.tol = tolerance\n",
        "      self.data_normal = stats.norm.rvs(size = sSize,loc = 0, scale = C * self.tol / 2)\n",
        "      rand_samp = np.random.choice(self.data_normal)\n",
        "      self.C = C + rand_samp     \n",
        "      self.fs = fs\n",
        "      self.z = 0 \n",
        "      self.calc_impedance()\n",
        "\n",
        "    def set_capacitance(self,C):\n",
        "      if self.C == C:\n",
        "        return\n",
        "      self.C = C\n",
        "      self.propagate_impedance_change()\n",
        "    \n",
        "    def calc_impedance(self):\n",
        "      self.Rp = 1 / (2 * self.fs * self.C)\n",
        "    \n",
        "    def reset(self):\n",
        "      self.z = 0\n",
        "\n",
        "    def __str__(self):\n",
        "      return str(self.C) + \" farad Capacitor\"\n",
        "\n",
        "    def get_reflected_wave(self):\n",
        "        self.b = self.z\n",
        "        return self.b\n",
        "    \n",
        "    def set_incident_wave(self, a):\n",
        "        self.a = a\n",
        "        self.z = self.a\n",
        "\n",
        "class Inductor(WDFOnePort):\n",
        "    def __init__(self, L,fs):\n",
        "      WDFOnePort.__init__(self)\n",
        "      self.fs = fs\n",
        "      self.L = L\n",
        "      self.z = 0\n",
        "      self.calc_impedance()\n",
        "\n",
        "    def calc_impedance(self):\n",
        "      self.Rp = 2 * self.fs * self.L\n",
        "\n",
        "    def set_inductance(self,L):\n",
        "      self.L = L\n",
        "      self.propagate_impedance_change()\n",
        "\n",
        "    def __str__(self):\n",
        "      return str(self.L) + \" henry Inductor\"\n",
        "    \n",
        "    def get_reflected_wave(self):\n",
        "      self.b = -self.z\n",
        "      return self.b\n",
        "    \n",
        "    def set_incident_wave(self, a):\n",
        "      self.a = a\n",
        "      self.z = self.a"
      ]
    },
    {
      "cell_type": "markdown",
      "metadata": {
        "id": "u-OMbP9AOEFe"
      },
      "source": [
        "### Short circuit, open circuit & switch"
      ]
    },
    {
      "cell_type": "code",
      "execution_count": 37,
      "metadata": {
        "id": "H04mdRUiNeiP"
      },
      "outputs": [],
      "source": [
        "class ShortCircuit(WDFOnePort):\n",
        "    def __init__(self):\n",
        "        WDFOnePort.__init__(self)\n",
        "    \n",
        "    def get_reflected_wave(self, a):\n",
        "        self.a = a\n",
        "        self.b = -a\n",
        "        return self.b\n",
        "\n",
        "class OpenCircuit(WDFOnePort):\n",
        "    def __init__(self):\n",
        "        WDFOnePort.__init__(self)\n",
        "    \n",
        "    def get_reflected_wave(self):\n",
        "        self.b = self.a\n",
        "        return self.b\n",
        "\n",
        "class Switch(WDFOnePort):\n",
        "    def __init__(self):\n",
        "        WDFOnePort.__init__(self)\n",
        "        __state = False \n",
        "    \n",
        "    def get_reflected_wave(self):\n",
        "        if __state: # Switch closed\n",
        "            self.b = -self.a\n",
        "        else:       # Switch open\n",
        "            self.a = self.a\n",
        "            self.b = self.a\n",
        "            \n",
        "        return self.b\n",
        "    \n",
        "    def change_state(self, state):\n",
        "        __state = state"
      ]
    },
    {
      "cell_type": "markdown",
      "metadata": {
        "id": "nVxRuDDBOHVg"
      },
      "source": [
        "### Ideal voltage & current sources"
      ]
    },
    {
      "cell_type": "code",
      "execution_count": 38,
      "metadata": {
        "id": "r_uNWccjNlUo"
      },
      "outputs": [],
      "source": [
        "class IdealVoltageSource(WDFOnePort):\n",
        "    def __init__(self,next):\n",
        "        WDFOnePort.__init__(self)\n",
        "        self.next = next\n",
        "        self.next.connect_to_parent(self)\n",
        "        self.vs = 0\n",
        "        self.Rp = 0\n",
        "\n",
        "    def __str__(self):\n",
        "      return \"Ideal voltage source\"\n",
        "        \n",
        "    def set_voltage(self,vs):\n",
        "      self.vs = vs\n",
        "\n",
        "    def set_incident_wave(self,a):\n",
        "      self.a = a\n",
        "\n",
        "    def get_reflected_wave(self):\n",
        "        self.b = 0 - self.a + (2 * self.vs)\n",
        "        return self.b\n",
        "\n",
        "class IdealCurrentSource(WDFOnePort):\n",
        "    def __init__(self):\n",
        "        WDFOnePort.__init__(self)\n",
        "        \n",
        "    def __str__(self):\n",
        "      return \"Ideal current source\"\n",
        "\n",
        "    def get_reflected_wave(self, i_s=0):\n",
        "        self.b = self.a - 2*R_p*i_s\n",
        "        return self.b"
      ]
    },
    {
      "cell_type": "markdown",
      "metadata": {
        "id": "JrwUAh1AOJe7"
      },
      "source": [
        "### Resistive voltage & current sources"
      ]
    },
    {
      "cell_type": "code",
      "execution_count": 39,
      "metadata": {
        "id": "CemgbIePNp3K"
      },
      "outputs": [],
      "source": [
        "class ResistiveVoltageSource(WDFOnePort):\n",
        "    def __init__(self, Rs):\n",
        "      WDFOnePort.__init__(self)\n",
        "      self.Rval = Rs\n",
        "      self.v_s = 0\n",
        "      self.calc_impedance()\n",
        "  \n",
        "    def calc_impedance(self):\n",
        "      self.Rp = self.Rval\n",
        "    \n",
        "    def __str__(self):\n",
        "      return str(self.Rp) + \" Ohm resistive voltage source\"\n",
        "\n",
        "    def set_voltage(self,v_s):\n",
        "      self.v_s = v_s\n",
        "\n",
        "    def set_incident_wave(self,a):\n",
        "      self.a = a\n",
        "\n",
        "    def get_reflected_wave(self):\n",
        "      self.b = self.v_s\n",
        "      return self.b\n",
        "\n",
        "class ResistiveCurrentSource(WDFOnePort):\n",
        "    def __init__(self, R):\n",
        "      WDFOnePort.__init__(self)\n",
        "      self.Rval = R\n",
        "\n",
        "    def calc_impedance(self):\n",
        "      self.Rp = self.Rval\n",
        "    \n",
        "    def __str__(self):\n",
        "      return str(self.Rp) + \" Ohm resistive current source\"\n",
        "\n",
        "    def get_reflected_wave(self,i_s=0):\n",
        "        self.b = self.Rp*i_s\n",
        "        return self.b"
      ]
    },
    {
      "cell_type": "markdown",
      "metadata": {
        "id": "ZOFHepBZONHO"
      },
      "source": [
        "### Omega function approximations"
      ]
    },
    {
      "cell_type": "code",
      "execution_count": 40,
      "metadata": {
        "id": "PC_ZRFsWNU-V"
      },
      "outputs": [],
      "source": [
        "def omega3(x):\n",
        "    \"\"\"\n",
        "    3rd order approximation of wright omega function\n",
        "    \"\"\"\n",
        "    x1 =  -3.341459552768620\n",
        "    x2 = 8.0\n",
        "    a =  -1.314293149877800e-3\n",
        "    b = 4.775931364975583e-2\n",
        "    c = 3.631952663804445e-1\n",
        "    d = 6.313183464296682e-1\n",
        "    if x < x1:\n",
        "        return 0\n",
        "    elif x < x2:\n",
        "        return d + x * (c + x * (b + x * a))\n",
        "    return x - np.log(x)\n",
        "\n",
        "def omega4(x):\n",
        "    \"\"\"\n",
        "    4th order approximation of wright omega function\n",
        "    \"\"\"\n",
        "    y = omega3(x)\n",
        "    return y - (y - np.exp(x - y)) / (y + 1)"
      ]
    },
    {
      "cell_type": "markdown",
      "metadata": {
        "id": "xMPU-x3kOPPj"
      },
      "source": [
        "### Diode "
      ]
    },
    {
      "cell_type": "code",
      "execution_count": 41,
      "metadata": {
        "id": "d0iIm2wHNA0r"
      },
      "outputs": [],
      "source": [
        "class Diode_pair(WDFOnePort):\n",
        "    def __init__(self,next,nDiodes=2,Is=2.52e-9,Vt = 25.85e-3,q=\"best\"):\n",
        "      WDFOnePort.__init__(self)\n",
        "      self.q = q\n",
        "      self.next = next\n",
        "      self.next.connect_to_parent(self)\n",
        "      self.set_params(Is,Vt,nDiodes)\n",
        "      self.calc_impedance()\n",
        "\n",
        "    def set_params(self,Is,Vt,nDiodes):\n",
        "      self.Is = Is\n",
        "      self.Rp = self.next.Rp\n",
        "      self.Vt = Vt * nDiodes\n",
        "      self.oneOverVt = 1. / self.Vt\n",
        "\n",
        "    def calc_impedance(self):\n",
        "      self.R_Is = self.Rp * self.Is\n",
        "      self.R_Is_overVT = self.R_Is * self.oneOverVt\n",
        "      self.logR_Is_overVT = np.log(self.R_Is_overVT)\n",
        "\n",
        "    def set_incident_wave(self,a):\n",
        "      self.a = a\n",
        "\n",
        "    def get_reflected_wave(self):\n",
        "      lam = np.sign(self.a)\n",
        "      lam_a_overVT = lam * self.a / self.Vt\n",
        "      if self.q == \"best\":\n",
        "          self.b = self.a - (2 * self.Vt) * lam * (omega4(self.logR_Is_overVT + lam_a_overVT)) - omega4(self.logR_Is_overVT - lam_a_overVT)\n",
        "      elif self.q == \"good\":\n",
        "          self.b = self.a + 2 * lam * (self.R_Is - self.Vt * omega4(self.logR_Is_overVT + lam * self.a * self.oneOverVt + self.R_Is_overVT))\n",
        "      return self.b"
      ]
    },
    {
      "cell_type": "markdown",
      "metadata": {
        "id": "4sKegALU60f3"
      },
      "source": [
        "### 3 port adaptors"
      ]
    },
    {
      "cell_type": "code",
      "execution_count": 42,
      "metadata": {
        "id": "itKO5oqGDlMd"
      },
      "outputs": [],
      "source": [
        "class adaptor(WDFOnePort):\n",
        "  def __init__(self,p1,p2):\n",
        "    WDFOnePort.__init__(self)\n",
        "    # self.a, self.b = 0,0\n",
        "    self.p1_reflect = 1.\n",
        "    self.p1 = p1\n",
        "    self.p2 = p2\n",
        "    self.p1.connect_to_parent(self)\n",
        "    self.p2.connect_to_parent(self)\n",
        "    self.calc_impedance()\n",
        "\n",
        "  def connect_to_parent(self,p):\n",
        "    self.parent = p\n",
        "\n",
        "  def calc_impedance(self):\n",
        "    pass\n",
        "\n",
        "  def set_incident_wave(self,a):\n",
        "    pass\n",
        "\n",
        "  def get_reflected_wave(self):\n",
        "    pass\n",
        "\n",
        "class Series(adaptor):\n",
        "  def __init__(self,p1,p2):\n",
        "    adaptor.__init__(self,p1,p2)\n",
        "\n",
        "  def calc_impedance(self):\n",
        "    self.Rp = self.p1.Rp + self.p2.Rp\n",
        "    self.G = 1./self.Rp\n",
        "    self.p1_reflect = self.p1.Rp / self.Rp\n",
        "\n",
        "  def set_incident_wave(self,a):\n",
        "    b1 = self.p1.b - self.p1_reflect * (a + self.p1.b + self.p2.b)\n",
        "    self.p1.set_incident_wave(b1)\n",
        "    self.p2.set_incident_wave(0 - (a + b1))\n",
        "    self.a = a\n",
        "\n",
        "  def get_reflected_wave(self):\n",
        "    self.b = 0 - self.p1.get_reflected_wave() + self.p2.get_reflected_wave()\n",
        "    return self.b\n",
        "\n",
        "class Parallel(adaptor):\n",
        "  def __init__(self,p1,p2):\n",
        "    adaptor.__init__(self,p1,p2)\n",
        "    self.b_temp = 0\n",
        "    self.b_diff = 0\n",
        "\n",
        "  def calc_impedance(self):\n",
        "    self.G = (1./self.p1.Rp) + (1./self.p2.Rp)\n",
        "    self.Rp = 1./self.G\n",
        "    self.p1_reflect = (1./self.p1.Rp) / self.G\n",
        "\n",
        "  def set_incident_wave(self,a):\n",
        "    b2 = a + self.b_temp\n",
        "    self.p1.set_incident_wave(self.b_diff + b2)\n",
        "    self.p2.set_incident_wave(b2)\n",
        "    self.a = a\n",
        "\n",
        "  def get_reflected_wave(self):\n",
        "    self.p1.get_reflected_wave()\n",
        "    self.p2.get_reflected_wave()\n",
        "    self.b_diff = self.p2.b - self.p1.b\n",
        "    self.b_temp = 0 - self.p1_reflect * self.b_diff\n",
        "    self.b = self.p2.b + self.b_temp\n",
        "    return self.b"
      ]
    },
    {
      "cell_type": "markdown",
      "metadata": {
        "id": "-nQ8MiWuhrql"
      },
      "source": [
        "### Diode clipper"
      ]
    },
    {
      "cell_type": "code",
      "execution_count": 43,
      "metadata": {
        "colab": {
          "base_uri": "https://localhost:8080/",
          "height": 655
        },
        "id": "llN8ZXt98vao",
        "outputId": "40eedbe7-f271-47a6-a1a4-f5b853d236be"
      },
      "outputs": [
        {
          "data": {
            "image/png": "[encoded data removed]",
            "text/plain": [
              "<Figure size 432x288 with 1 Axes>"
            ]
          },
          "metadata": {
            "needs_background": "light"
          },
          "output_type": "display_data"
        },
        {
          "name": "stderr",
          "output_type": "stream",
          "text": [
            "/var/folders/f3/xh405jz12hs55vqqmw2zl79w0000gn/T/ipykernel_48775/583276201.py:8: DeprecationWarning: `np.int` is a deprecated alias for the builtin `int`. To silence this warning, use `int` by itself. Doing this will not modify any behavior and is safe. When replacing `np.int`, you may wish to use e.g. `np.int64` or `np.int32` to specify the precision. If you wish to review your current use, check the release note link for additional information.\n",
            "Deprecated in NumPy 1.20; for more details and guidance: https://numpy.org/devdocs/release/1.20.0-notes.html#deprecations\n",
            "  num = np.int(np.rint(den*x/number))\n"
          ]
        },
        {
          "data": {
            "image/png": "[encoded data removed]",
            "text/plain": [
              "<Figure size 432x288 with 1 Axes>"
            ]
          },
          "metadata": {
            "needs_background": "light"
          },
          "output_type": "display_data"
        }
      ],
      "source": [
        "fs = int(44100)\n",
        "f = 1000\n",
        "amp = 6\n",
        "t = .5\n",
        "\n",
        "x = gen_test_wave(fs,f,amp,t,kind='delta')\n",
        "output = np.zeros(len(x))\n",
        "\n",
        "cutoff = 10000\n",
        "c = 47e-9\n",
        "r = 1 / (2 * np.pi * cutoff * c)\n",
        "\n",
        "R1 = Resistor(r)\n",
        "Vs = ResistiveVoltageSource(1e-9)\n",
        "S1 = Series(Vs,R1)\n",
        "\n",
        "C1 = Capacitor(47e-9,fs)\n",
        "P1 = Parallel(S1, C1)\n",
        "\n",
        "dp = Diode_pair(P1,nDiodes=2)\n",
        "\n",
        "for i in range(len(x)):\n",
        "  Vs.set_voltage(x[i])\n",
        "  dp.set_incident_wave(P1.get_reflected_wave())\n",
        "  y = C1.wave_to_voltage()\n",
        "  P1.set_incident_wave(dp.get_reflected_wave())\n",
        "  output[i] = y\n",
        "\n",
        "# plt.plot(x[:100],label='input')\n",
        "# plt.plot(output[:100],label='output')\n",
        "# plt.legend()\n",
        "# plt.show()\n",
        "# plot_fft(output,fs)\n",
        "# print(r)\n",
        "# plot_bode(output,fs)\n",
        "\n",
        "spice_path = '/Users/gusanthon/Documents/UPF/Thesis/diode-clipper-frequency-analysis.txt'\n",
        "compare_vs_spice(output,fs,spice_path,mult_locater=(np.pi/3),denom=3,title='Diode clipper ')"
      ]
    },
    {
      "cell_type": "markdown",
      "metadata": {
        "id": "zuOSm54Bx28r"
      },
      "source": [
        "### Passive LPF"
      ]
    },
    {
      "cell_type": "code",
      "execution_count": 44,
      "metadata": {
        "colab": {
          "base_uri": "https://localhost:8080/",
          "height": 655
        },
        "id": "Qswp1Oh3x4Jh",
        "outputId": "40436730-f371-454e-cae9-a270a22ad010"
      },
      "outputs": [
        {
          "data": {
            "image/png": "[encoded data removed]",
            "text/plain": [
              "<Figure size 432x288 with 1 Axes>"
            ]
          },
          "metadata": {
            "needs_background": "light"
          },
          "output_type": "display_data"
        },
        {
          "name": "stderr",
          "output_type": "stream",
          "text": [
            "/var/folders/f3/xh405jz12hs55vqqmw2zl79w0000gn/T/ipykernel_48775/583276201.py:8: DeprecationWarning: `np.int` is a deprecated alias for the builtin `int`. To silence this warning, use `int` by itself. Doing this will not modify any behavior and is safe. When replacing `np.int`, you may wish to use e.g. `np.int64` or `np.int32` to specify the precision. If you wish to review your current use, check the release note link for additional information.\n",
            "Deprecated in NumPy 1.20; for more details and guidance: https://numpy.org/devdocs/release/1.20.0-notes.html#deprecations\n",
            "  num = np.int(np.rint(den*x/number))\n"
          ]
        },
        {
          "data": {
            "image/png": "[encoded data removed]",
            "text/plain": [
              "<Figure size 432x288 with 1 Axes>"
            ]
          },
          "metadata": {
            "needs_background": "light"
          },
          "output_type": "display_data"
        }
      ],
      "source": [
        "fs = int(44100)\n",
        "f = 1000\n",
        "amp = 1\n",
        "t = .5\n",
        "\n",
        "x = gen_test_wave(fs,f,amp,t,kind='delta')\n",
        "output = np.zeros(len(x))\n",
        "\n",
        "cutoff = 5000\n",
        "c = 5e-8\n",
        "r = 1 / (2 * np.pi * cutoff * c)\n",
        "\n",
        "R1 = Resistor(r)\n",
        "R2 = Resistor(r)\n",
        "\n",
        "C1 = Capacitor(c,fs)\n",
        "C2 = Capacitor(c,fs)\n",
        "\n",
        "S1 = Series(R2,C2)\n",
        "P1 = Parallel(C1,S1)\n",
        "S2 = Series(R1,P1)\n",
        "\n",
        "Vs = IdealVoltageSource(P1)\n",
        "\n",
        "for i in range(len(x)):\n",
        "  Vs.set_voltage(x[i])\n",
        "  Vs.set_incident_wave(S2.get_reflected_wave())\n",
        "  y = C2.wave_to_voltage()\n",
        "  S2.set_incident_wave(Vs.get_reflected_wave())\n",
        "  output[i] = y\n",
        "\n",
        "# plot_bode(output,fs)\n",
        "\n",
        "# plot_ltspice_bode('/Users/gusanthon/Documents/UPF/Thesis/passive_LPF_spice_data.txt')\n",
        "spice_path = '/Users/gusanthon/Documents/UPF/Thesis/Passive_LPF_Spice.txt'\n",
        "compare_vs_spice(output,fs,spice_path,title=\"Passive LPF \")"
      ]
    },
    {
      "cell_type": "code",
      "execution_count": 45,
      "metadata": {
        "colab": {
          "base_uri": "https://localhost:8080/",
          "height": 903
        },
        "id": "bhnTJlnoeb2w",
        "outputId": "7020e47c-8745-4b79-da55-19326922b786"
      },
      "outputs": [
        {
          "data": {
            "image/png": "[encoded data removed]",
            "text/plain": [
              "<Figure size 432x288 with 1 Axes>"
            ]
          },
          "metadata": {
            "needs_background": "light"
          },
          "output_type": "display_data"
        },
        {
          "data": {
            "image/png": "[encoded data removed]",
            "text/plain": [
              "<Figure size 432x288 with 1 Axes>"
            ]
          },
          "metadata": {
            "needs_background": "light"
          },
          "output_type": "display_data"
        },
        {
          "name": "stderr",
          "output_type": "stream",
          "text": [
            "/var/folders/f3/xh405jz12hs55vqqmw2zl79w0000gn/T/ipykernel_48775/583276201.py:8: DeprecationWarning: `np.int` is a deprecated alias for the builtin `int`. To silence this warning, use `int` by itself. Doing this will not modify any behavior and is safe. When replacing `np.int`, you may wish to use e.g. `np.int64` or `np.int32` to specify the precision. If you wish to review your current use, check the release note link for additional information.\n",
            "Deprecated in NumPy 1.20; for more details and guidance: https://numpy.org/devdocs/release/1.20.0-notes.html#deprecations\n",
            "  num = np.int(np.rint(den*x/number))\n"
          ]
        },
        {
          "data": {
            "image/png": "[encoded data removed]",
            "text/plain": [
              "<Figure size 432x288 with 1 Axes>"
            ]
          },
          "metadata": {
            "needs_background": "light"
          },
          "output_type": "display_data"
        }
      ],
      "source": [
        "x = gen_test_wave(fs,f,amp,t,kind='delta')\n",
        "output = np.zeros(len(x))\n",
        "\n",
        "R1 = Resistor(10000)\n",
        "Vs = ResistiveVoltageSource(1e-9)\n",
        "S1 = Series(Vs,R2)\n",
        "\n",
        "for i in range(len(x)):\n",
        "  Vs.set_voltage(x[i])\n",
        "  R1.set_incident_wave(S1.get_reflected_wave())\n",
        "  y = R1.wave_to_voltage()\n",
        "  S1.set_incident_wave(Vs.get_reflected_wave())\n",
        "  output[i] = y\n",
        "\n",
        "plt.plot(x[:50])\n",
        "plt.plot(output[:50])\n",
        "plt.show()\n",
        "plot_bode(output,fs)"
      ]
    }
  ],
  "metadata": {
    "colab": {
      "collapsed_sections": [
        "e29g70CuN3zK",
        "TZkuJV75N6Ib",
        "yl1mntTtN8ZB",
        "u-OMbP9AOEFe"
      ],
      "name": "wdfs2.ipynb",
      "provenance": []
    },
    "interpreter": {
      "hash": "b0fa6594d8f4cbf19f97940f81e996739fb7646882a419484c72d19e05852a7e"
    },
    "kernelspec": {
      "display_name": "Python 3.9.12 64-bit",
      "language": "python",
      "name": "python3"
    },
    "language_info": {
      "codemirror_mode": {
        "name": "ipython",
        "version": 3
      },
      "file_extension": ".py",
      "mimetype": "text/x-python",
      "name": "python",
      "nbconvert_exporter": "python",
      "pygments_lexer": "ipython3",
      "version": "3.9.12"
    }
  },
  "nbformat": 4,
  "nbformat_minor": 0
}
