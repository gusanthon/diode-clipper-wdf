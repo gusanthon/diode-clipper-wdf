{
 "cells": [
  {
   "cell_type": "markdown",
   "metadata": {},
   "source": [
    "*This notebook is a work in progress. Please send notes, comments and other suggestions to [olafur.bogason@mail.mcgill.ca](olafur.bogason@mail.mcgill.ca)*\n",
    "\n",
    "When starting out Wave Digital Filters (WDFs) can seem cryptic and implementing them time consuming to say the least. In this notebook I hope to shed some light on WDFs and how they work out in practice. This is not a review article on current research trends. This is an article I wish I had read when I started to dabble with the theory.\n",
    "\n",
    "# Wave Digital Filters\n",
    "\n",
    "Wave Digital Filters were first mentioned in a German patent filed in the late 1960s by Alfred Fettweis. Originally they were used to discretize RCL ladder circuits, that is circuits that can be decomposed into a cascade of series and parallel connections. WDFs can be seen as a [finite difference scheme](https://en.wikipedia.org/wiki/Finite_difference_method) with some nice numerical properties. WDFs allow an audio DSP designer to create algorithms that are *physically informed*. That is, algorithms that retain underlying structure (topology) of a reference circuit and use physical approximations, traditionally [a lumped model](https://en.wikipedia.org/wiki/Lumped_element_model), of how circuit components behave. \n",
    "\n",
    "The Wave part of Wave Digital Filters is a reference to the fact that the independent variables in the WD-domain are so called wave-variables (which all EE engineers know from [Two-port networks](https://en.wikipedia.org/wiki/two-port_network)). Having waves as independent variables allows the use of concepts such as [scattering](https://en.wikipedia.org/wiki/Scattering) and [impedence matching](https://en.wikipedia.org/wiki/Impedance_matching).\n",
    "\n",
    "For each lumped element in the Kirchoff/K-domain there exists a *port* in the Wave Digital/WD-domain. Similarly for series and parallel connections in the K-domain there exist series and parallel *adaptors* in the WD-domain. Many circuits in the wild however cannot be split into a cascade of series and parallel adaptors.\n",
    "\n",
    "That means that the scope of circuits that were tractable via WDF was very limited. Recently researchers have found a way to use WDFs to cover [arbitrary topologies](http://www.ntnu.edu/documents/1001201110/1266017954/DAFx-15_submission_53.pdf). This method proposed to use of [Modified Nodal Analysis](https://en.wikipedia.org/wiki/Modified_nodal_analysis) along with some clever linear algebra tricks to describe the scattering behaviour of a multi-port R-type (Rigid) adaptor.\n",
    "\n",
    "---\n",
    "\n",
    "Examples on how to implement WD-structures will be given in Python code. The reason for choosing Python is that it is an interpreted language and its simplicity allows me to concentrate on the explanation of WD concepts rather than the programming itself. There is a nice real-time C++ library being developed [here](https://github.com/RT-WDF/rt-wdf_lib).\n",
    "\n",
    "To keep things simple, classes are used to handle individual WD ports. Simple functions are used for adaptors to show how the computation is done. Instead of displaying all the code at once, snippets are interleaved with the text. Results from simulations of WD structures are compared to results obtained by simulating the same circuits in [LTspice](http://www.linear.com/designtools/software/)."
   ]
  },
  {
   "cell_type": "code",
   "execution_count": 325,
   "metadata": {
    "collapsed": false
   },
   "outputs": [],
   "source": [
    "%matplotlib inline\n",
    "\n",
    "# Some auxillary code.\n",
    "import numpy as np\n",
    "import pandas as pd\n",
    "from scipy import signal\n",
    "from sympy import *\n",
    "import matplotlib.pyplot as plt\n",
    "\n",
    "FS = 96e3  # Sample frequency.  \n",
    "N = 2**14  # Number of points to simulate.\n",
    "\n",
    "input = np.zeros(N)\n",
    "input[0] = 1  # Input is a delta function.\n",
    "output = np.zeros(input.size)\n",
    "steps  = np.arange(N)\n",
    "\n",
    "# Make legends nicer and find best location for box.\n",
    "legend_style = {\"loc\":0, \"frameon\":False, \"fontsize\":10}\n",
    "\n",
    "def plot_freqz(x, title=\"Frequency response\"):\n",
    "    # Plot the frequency response of a signal x.\n",
    "    ax = plt.subplot(111)\n",
    "    w, h = signal.freqz(x, 1, 2048*2)\n",
    "    H = 20 * np.log10(np.abs(h))\n",
    "    f = w / (2 * np.pi) * FS\n",
    "    # Make plot pretty.\n",
    "    ax.spines[\"left\"].set_visible(False)\n",
    "    ax.spines[\"right\"].set_visible(False)\n",
    "    ax.spines[\"top\"].set_visible(False)\n",
    "    ax.spines[\"bottom\"].set_visible(False)\n",
    "    ax.yaxis.set_ticks_position('left')\n",
    "    ax.xaxis.set_ticks_position('bottom')\n",
    "    ax.semilogx(f, H, label=\"WDF\")\n",
    "    plt.xlim([np.min(f), np.max(f)])\n",
    "    plt.title(title)\n",
    "    plt.xlabel('Frequency [Hz]')\n",
    "    plt.ylabel('Magnitude [dB]')\n",
    "\n",
    "def plot_ltspice_freqz(filename, title=\"Frequency response\", out_label='V(vout)'):\n",
    "    # Plot the frequency responce of a LTspice simulation containing\n",
    "    # frequency and complex signal.\n",
    "    def imag_to_mag(z):\n",
    "        # Returns the maginude of an imaginary number.\n",
    "        a, b = map(float, z.split(','))\n",
    "        return 20*np.log10(np.sqrt(a*a + b*b))\n",
    "    \n",
    "    x = pd.read_csv(filename, delim_whitespace=True)\n",
    "    x['H_dB'] = x[out_label].apply(imag_to_mag)\n",
    "\n",
    "    f = np.array(x['Freq.'])\n",
    "    H_db = np.array(x['H_dB'])\n",
    "    plt.semilogx(f, H_db, label=\"LTspice\")\n"
   ]
  },
  {
   "cell_type": "markdown",
   "metadata": {},
   "source": [
    "# WD-domain variables\n",
    "One-port elements in electrical circuits include components such as resistors, capacitors and inductors. They also include ideal and resistive voltage and current sources along with short and open circuits. Many more one-port elements exist, but those are some of the elements that have already been ported over to the WD-domain and are used in practice. \n",
    "\n",
    "K-domain variables $v$ and $i$ are linearly mapped to WD-domain variables $a$ and $b$ with the following linear transforms:\n",
    "\n",
    "\\begin{align}\n",
    "a &= v + i \\cdot R_p \\\\ \n",
    "b &= v - i \\cdot R_p \n",
    "\\end{align}\n",
    "\n",
    "\\begin{align}\n",
    "v &= \\frac{1}{2}(a + b) \\\\ \n",
    "i &= \\frac{1}{2 R_p}(a - b)\n",
    "\\end{align}\n",
    "\n",
    "$R_p$ is called a **port resistance**. It is physically introduced into the system, meaning that in practice it can be set to any real value.\n",
    "\n",
    "![](files/images/port.png)\n",
    "The picture above catches the most important variables in one place. We have the instantaneous Thévenin port equivalence circuit ($v_s$, $R_s$) along with independent variables in K-domain, $V$, $i$ and in the WD-domain $a$, $b$ and the port resistance $R_p$.\n",
    "\n",
    "# Discretization of dynamic elements\n",
    "\n",
    "An integral part of coming up with a WDF structure is to digitize the reactive components in the reference circuit. Although most text out there will only mention the use of biliear transform to digitze circuits, it is by no means the only way. There are even certain cases where using it may render the [WD simulation unstable](https://www.ntnu.edu/documents/1001201110/1266017954/DAFx-15_submission_52.pdf). For our case we will still use it for the sake of its simplicity.\n",
    "\n",
    "\\begin{align}\n",
    "s & \\leftarrow \\frac{1}{2 f_s} \\frac{z - 1}{z + 1}\n",
    "\\end{align}\n",
    "\n",
    "There is one thing to keep in mind during the following derivations. For the resulting WDF structure to be computable we cannot have any delay-free loops inside it. That means that for each one-port element we are looking for a function $f$ that maps $a$ -> $b$ but $b_t$ cannot depend on $a_t$. It can only on delayed versions of $a$, e.g. $a_{t-1}$.\n",
    "\n",
    "To deal with this issue we have two theoretical tools at our disposal: (a) the port resistance, (b) adapt a port of an adaptor by using the concept of scattering. Adapting a port or making it reflection free means that we choose the port resistance at that port so that the reflected wave does not depend directly on the incident wave at that same port. Note that the reflected wave can, and often will, depend on incident waves from other ports of the same adaptor."
   ]
  },
  {
   "cell_type": "markdown",
   "metadata": {},
   "source": [
    "# One port elements\n",
    "Starting with the K-domain representaion of a one-port element it is is simple to derive the most common one-port elements. The linear mappings between the K- and WD-domain are used extensively in this part."
   ]
  },
  {
   "cell_type": "code",
   "execution_count": 306,
   "metadata": {
    "collapsed": true
   },
   "outputs": [],
   "source": [
    "class WDFOnePort(object):\n",
    "    def __init__(self):\n",
    "        # Incident- and reflected wave variables.\n",
    "        self.a, self.b = 0, 0\n",
    "        \n",
    "    def wave_to_voltage(self):\n",
    "        voltage = (self.a + self.b) / 2\n",
    "        # print(voltage)\n",
    "        return voltage\n",
    "\n",
    "    def wave_to_current(self):\n",
    "        current = (1 / 2 * self.Rp) * (self.a + self.b)\n",
    "        # print(current)\n",
    "        return current"
   ]
  },
  {
   "cell_type": "markdown",
   "metadata": {},
   "source": [
    "### WDF Resistor\n",
    "\\begin{align}\n",
    "Z_R = R &= \\frac{v}{i} \\\\\n",
    "    &= \\frac{\\frac{1}{2}(a + b)}{\\frac{1}{2 R_p}(a - b)}\n",
    "\\end{align}\n",
    "\n",
    "$$ b = \\frac{R - R_p}{R + R_p} a $$\n",
    "\n",
    "If we write that out with explicit time we get:\n",
    "\n",
    "$$ b[n] = \\frac{R - R_p}{R + R_p} a[n] $$\n",
    "\n",
    "so we see that the reflected wave depends instantaneously on the incident wave: We have a delay-free loop. To break that loop we must use our free parameter and set $R_p = R$. That choice causes $Z_R = 0$ and $b = 0$ for all resistor elements. In other words it means that the reflected wave is always zero independent on the value of inciding wave! But what does that really mean? Will resistors not contribute at all to the WDF structure? \n",
    "\n",
    "Far from it. Because we set the port resistance equal to the physical resistance of resitors they directly contribute to the scattering of incident waves at the adaptor connected to any given resistor. More about that later. \n",
    "\n",
    "![](files/images/resistor.png)"
   ]
  },
  {
   "cell_type": "code",
   "execution_count": 307,
   "metadata": {
    "collapsed": false
   },
   "outputs": [],
   "source": [
    "class Resistor(WDFOnePort):\n",
    "    def __init__(self, R):\n",
    "        WDFOnePort.__init__(self)\n",
    "        self.Rp = R  # Port resistence set to physical resistance\n",
    "    \n",
    "    def get_reflected_wave(self, a):\n",
    "        self.a = a\n",
    "        self.b = 0\n",
    "        return self.b"
   ]
  },
  {
   "cell_type": "markdown",
   "metadata": {},
   "source": [
    "### WDF Capacitor\n",
    "Now we move on to reactive elements. and describe the capacitor as a function of the Laplace variable $s$.\n",
    "\n",
    "\\begin{align}\n",
    "Z_C = \\frac{1}{sC} & = \\frac{v}{i} \\\\\n",
    "                   & = \\frac{\\frac{1}{2}(a + b)}{\\frac{1}{2 R_p}(a - b)}\n",
    "\\end{align}\n",
    "\n",
    "$$ b = S a = \\frac{1 - R_p C s}{1 + R_p C s} a $$\n",
    "\n",
    "The bilinear transform is used to digitize the function $S$ \n",
    "\n",
    "\\begin{align}\n",
    "b = S a & = \\frac{1 - R_p C \\frac{1}{2 f_s} \\frac{z - 1}{z + 1}}{1 + R_p C \\frac{1}{2 f_s} \\frac{z - 1}{z + 1}} a \\\\\n",
    "        & = \\frac{(1 - 2 f_s C R_p) + (1 +  2 f_s C R_p)z^{-1}}{(1 + 2 f_s C R_p) + (1 -  2 f_s C R_p)z^{-1}} a \n",
    "\\end{align}\n",
    "\n",
    "If we transform that into the time-domain we have the following difference equation.\n",
    "\n",
    "\\begin{align}\n",
    "b[n] = & = \\frac{1}{1 + 2 f_s C R_p} \\left ( (1 - 2 f_s C R_p) a[n] + (1 + 2 f_s C R_p) a[n-1] - (1 - 2 f_s C R_p) b[n -1]) \\right )\n",
    "\\end{align}\n",
    "\n",
    "\n",
    "Again we have a delay-free loop which we must break up. The only way for that to be achieved is if $R_p = \\frac{1}{2f_sC}$. Then the reflected wave is $ b = z^{-1} a $. That is, the reflected wave is simply a unit-delayed version of the incident wave. This result is of course different for other methods of discretization.\n",
    "\n",
    "![](files/images/capacitor.png)"
   ]
  },
  {
   "cell_type": "code",
   "execution_count": 308,
   "metadata": {},
   "outputs": [
    {
     "name": "stdout",
     "output_type": "stream",
     "text": [
      "-4.599961204188532e-07\n",
      "3.0400038795811467e-06\n"
     ]
    },
    {
     "data": {
      "image/png": "[encoded data removed]",
      "text/plain": [
       "<Figure size 432x288 with 1 Axes>"
      ]
     },
     "metadata": {
      "needs_background": "light"
     },
     "output_type": "display_data"
    }
   ],
   "source": [
    "# import np.random\n",
    "C = 3.5e-6\n",
    "tol = .2\n",
    "gd = np.random.normal(0,tol*C,1000)\n",
    "plt.hist(gd)\n",
    "s = np.random.choice(gd)\n",
    "print(s)\n",
    "print(C+s)"
   ]
  },
  {
   "cell_type": "code",
   "execution_count": 309,
   "metadata": {
    "collapsed": false
   },
   "outputs": [
    {
     "name": "stdout",
     "output_type": "stream",
     "text": [
      "4.947580261211061e-07\n"
     ]
    },
    {
     "data": {
      "text/plain": [
       "Text(0, 0.5, 'occurrences')"
      ]
     },
     "execution_count": 309,
     "metadata": {},
     "output_type": "execute_result"
    },
    {
     "data": {
      "image/png": "[encoded data removed]",
      "text/plain": [
       "<Figure size 432x288 with 1 Axes>"
      ]
     },
     "metadata": {
      "needs_background": "light"
     },
     "output_type": "display_data"
    }
   ],
   "source": [
    "import scipy.stats as stats\n",
    "\n",
    "class Capacitor(WDFOnePort):\n",
    "    def __init__(self, C, tolerance=.2,sSize=10):\n",
    "        WDFOnePort.__init__(self)\n",
    "        \n",
    "        # self.C = C\n",
    "        # self.Rp = 1 / (2 * FS * self.C)\n",
    "        # self.tol = tolerance\n",
    "        # create wave table to alter capacitance, amplitude and freq deetermined by tolerance and tolFreq\n",
    "        # n = np.arange(0,1,1/FS)\n",
    "        # x = np.cos(2 * np.pi * tolFreq * n) * (self.tol * self.C)\n",
    "        # self.tolTable = x\n",
    "\n",
    "        # gaussian distribution of vals below and above given C\n",
    "        # according to tolerance \n",
    "        # sample is selected and added to given capacitance value\n",
    "        self.tol = tolerance\n",
    "        self.data_normal = stats.norm.rvs(size = sSize,loc = 0, scale = C * self.tol / 2)\n",
    "        rand_samp = np.random.choice(self.data_normal)\n",
    "        self.C = C + rand_samp        \n",
    "        self.Rp = 1 / (2 * FS * self.C)\n",
    "\n",
    "    def get_reflected_wave(self, a):\n",
    "        self.b = self.a\n",
    "        self.a = a\n",
    "        return self.b\n",
    "    \n",
    "    def set_incident_wave(self, a):\n",
    "        self.a = a\n",
    "\n",
    "    # def updateRp(self,i):\n",
    "    #     # print(self.tolTable[i%len(self.tolTable)])\n",
    "    #     self.C += self.tolTable[i%len(self.tolTable)]\n",
    "    #     self.Rp = 1 / (2 * FS * self.C)\n",
    "\n",
    "\n",
    "c = Capacitor(5e-6)\n",
    "max(c.data_normal)\n",
    "print(abs(5e-6-c.C))\n",
    "plt.hist(c.data_normal)\n",
    "plt.xlabel('sample values')\n",
    "plt.ylabel('occurrences')\n",
    "# print(len(c.tolTable))\n",
    "# plt.plot(c.tolTable[:500])\n",
    "# N = stats.norm(loc=0, scale=.1)\n",
    "# r = N.rvs(1000)\n",
    "# print(np.where(r==0))\n",
    "# print(r)\n"
   ]
  },
  {
   "cell_type": "markdown",
   "metadata": {},
   "source": [
    "### WDF Inductor\n",
    "Following the same approach as above we can easilly derive the WD-domain representation for an inductor.\n",
    "\n",
    "\\begin{align}\n",
    "Z_L = sL & = \\frac{v}{i} \\\\\n",
    "         & = \\frac{\\frac{1}{2}(a + b)}{\\frac{1}{2 R_p}(a - b)} \n",
    "\\end{align}\n",
    "\n",
    "$$ b = S a = \\frac{sL - R_p}{sL + R_p} a $$\n",
    "\n",
    "Now we use the bilinear transform and digitize S. \n",
    "\n",
    "\\begin{align}\n",
    "b = S a & = \\frac{\\frac{1}{2 f_s} \\frac{z - 1}{z + 1}L - R_p}{\\frac{1}{2 f_s} \\frac{z - 1}{z + 1}L + R_p} a \\\\\n",
    "        & = \\frac{(2f_sL - R_p) - (2f_sL + R_p)z^{-1}}{(2f_sL + R_p) + (2f_sL - R_p)z^{-1}} a \n",
    "\\end{align}\n",
    "\n",
    "Here as well we have a delay-free loop that we can break up by setting $R_p = 2 f_s L$. Plugging that result into the equation above we get that $b = - z^{-1} a$, which means that the reflected wave is a unit-delayed inciding wave with phase inverted.\n",
    "\n",
    "![](files/images/inductor.png)"
   ]
  },
  {
   "cell_type": "code",
   "execution_count": 310,
   "metadata": {
    "collapsed": true
   },
   "outputs": [],
   "source": [
    "class Inductor(WDFOnePort):\n",
    "    def __init__(self, L):\n",
    "        WDFOnePort.__init__(self)\n",
    "        self.Rp = (2 * FS * L)\n",
    "    \n",
    "    def get_reflected_wave(self, a):\n",
    "        self.b = self.a\n",
    "        self.a = a\n",
    "        return -self.b\n",
    "    \n",
    "    def set_incident_wave(self, a):\n",
    "        self.a = a"
   ]
  },
  {
   "cell_type": "code",
   "execution_count": 311,
   "metadata": {},
   "outputs": [],
   "source": [
    "\n",
    "def omega3(x):\n",
    "    x1 =  -3.341459552768620\n",
    "    x2 = 8.0\n",
    "    a =  -1.314293149877800e-3\n",
    "    b = 4.775931364975583e-2\n",
    "    c = 3.631952663804445e-1\n",
    "    d = 6.313183464296682e-1\n",
    "    if x < x1:\n",
    "        return 0\n",
    "    elif x < x2:\n",
    "        return d + x * (c + x * (b + x * a))\n",
    "    return x - np.log(x)\n",
    "\n",
    "class Diode(WDFOnePort):\n",
    "    def __init__(self,Rp):\n",
    "        WDFOnePort.__init__(self)\n",
    "        self.Rp = Rp\n",
    "        self.Vt = 25.85e-3\n",
    "        self.Is = 0\n",
    "    \n",
    "    def set_incident_wave(self,a):\n",
    "        self.a = a\n",
    "\n",
    "    def get_reflected_wave(self,a):\n",
    "        lam = np.sign(a)\n",
    "        R_Is_overVT = self.Rp * self.Is * (1 / self.Vt)\n",
    "        logR_Is_overVT = np.log(R_Is_overVT)\n",
    "        lam_a_overVT = lam * self.a / self.Vt\n",
    "        self.b = self.a - (2 * self.Vt) * lam * (omega3(logR_Is_overVT + lam_a_overVT)) - omega3(logR_Is_overVT - lam_a_overVT)\n",
    "        # self.b  = self.a - 2 * lam * self.Rp * self.wave_to_current() - 2 * self.Vt * omega3(np.log(self.Rp * self.wave_to_current() / self.Vt) + self.a * 1 / self.Vt + self.Rp * self.wave_to_current() / self.Vt)\n",
    "        return self.b"
   ]
  },
  {
   "cell_type": "markdown",
   "metadata": {},
   "source": [
    "### Short circuit\n",
    "A short circuit can be seen as a resistor with no resistance, that is $R = 0$.\n",
    "\n",
    "$$ b = \\frac{R - R_p}{R + R_p} a = -a$$\n",
    "\n",
    "That results essentially tells us that the inciding wave gets completely projected back through the port, with a change in phase. \n",
    "\n",
    "We see that in this case the reflected wave depends instantaneously on the incident wave. If we want the resulting WDF structure to be computable we cannot have that. Fortunately the port resistance may be tuned so that the incident wave coming from the port will in fact be zero. That way the reflected wave is also always zero.\n",
    "\n",
    "![](files/images/short.png)"
   ]
  },
  {
   "cell_type": "code",
   "execution_count": 312,
   "metadata": {
    "collapsed": true
   },
   "outputs": [],
   "source": [
    "class ShortCircuit(WDFOnePort):\n",
    "    def __init__(self):\n",
    "        WDFOnePort.__init__(self)\n",
    "    \n",
    "    def get_reflected_wave(self, a):\n",
    "        self.a = a\n",
    "        self.b = -a\n",
    "        return self.b"
   ]
  },
  {
   "cell_type": "markdown",
   "metadata": {},
   "source": [
    "### Open circuit\n",
    "A short circuit can most easilly be seen as a resistor with infinite resitance, that is $R \\rightarrow \\infty$\n",
    "\n",
    "\\begin{align}\n",
    "b & = \\frac{R - R_p}{R + R_p} a \\\\\n",
    "  & = \\frac{1 - R_p/R}{1 + R_p/R} a  \\\\\n",
    "  & = a\n",
    "\\end{align}\n",
    "\n",
    "The difference between a short- and open circuit is the additional minus sign, which stands for a 180 degree change in phase.\n",
    "\n",
    "![](files/images/open.png)"
   ]
  },
  {
   "cell_type": "code",
   "execution_count": 313,
   "metadata": {
    "collapsed": true
   },
   "outputs": [],
   "source": [
    "class OpenCircuit(WDFOnePort):\n",
    "    def __init__(self):\n",
    "        WDFOnePort.__init__(self)\n",
    "    \n",
    "    def get_reflected_wave(self, a):\n",
    "        self.a = a\n",
    "        self.b = a\n",
    "        return self.b"
   ]
  },
  {
   "cell_type": "markdown",
   "metadata": {},
   "source": [
    "### Switch\n",
    "Building a simple on/off switch from the last two one-port elements is fairly simple. The only additional thing needed is a variable that holds the port's internal *state*."
   ]
  },
  {
   "cell_type": "code",
   "execution_count": 314,
   "metadata": {
    "collapsed": false
   },
   "outputs": [],
   "source": [
    "class Switch(WDFOnePort):\n",
    "    def __init__(self):\n",
    "        WDFOnePort.__init__(self)\n",
    "        __state = False \n",
    "    \n",
    "    def get_reflected_wave(self, a):\n",
    "        if __state: # Switch closed\n",
    "            self.a = a\n",
    "            self.b = -a\n",
    "        else:       # Switch open\n",
    "            self.a = a\n",
    "            self.b = a\n",
    "            \n",
    "        return self.b\n",
    "    \n",
    "    def change_state(self, state):\n",
    "        __state = state"
   ]
  },
  {
   "cell_type": "markdown",
   "metadata": {},
   "source": [
    "### Ideal Voltage Source\n",
    "Deriving the WD equivalent of an ideal voltage source with voltage $v_s$ is straight forward.\n",
    "\n",
    "\\begin{align}\n",
    "v = v_s & = \\frac{1}{2}(a + b) \\\\ \n",
    "      b & = 2v_s - a \n",
    "\\end{align}\n",
    "\n",
    "where $R_p$ is the port resistance and must be matched to the remaining WD structure. Matching or adapting a port is a concept that we will cover in the next section and is used when the port resistance alone cannot be used to break up delay-free loops like we have above.\n",
    "\n",
    "![](files/images/ideal_volt.png)"
   ]
  },
  {
   "cell_type": "code",
   "execution_count": 315,
   "metadata": {
    "collapsed": true
   },
   "outputs": [],
   "source": [
    "class IdealVoltageSource(WDFOnePort):\n",
    "    def __init__(self):\n",
    "        WDFOnePort.__init__(self)\n",
    "        \n",
    "    def get_reflected_wave(self, a, vs=0):\n",
    "        self.a = a\n",
    "        self.b = 2*vs - a\n",
    "        return self.b"
   ]
  },
  {
   "cell_type": "markdown",
   "metadata": {},
   "source": [
    "### Ideal Current Source\n",
    "The same is possible for an ideal current source with source current $i_s$\n",
    "\n",
    "\\begin{align}\n",
    "v & = \\frac{1}{2 R_p}(a - b) \\\\ \n",
    "b & = a - 2 R_p i_s\n",
    "\\end{align}\n",
    "\n",
    "Again, to make the structure computable, we have to adapt the port of the adaptor that a WD ideal current source is connected to.\n",
    "\n",
    "![](files/images/ideal_current.png)"
   ]
  },
  {
   "cell_type": "code",
   "execution_count": 316,
   "metadata": {
    "collapsed": false
   },
   "outputs": [],
   "source": [
    "class IdealCurrentSource(WDFOnePort):\n",
    "    def __init__(self):\n",
    "        WDFOnePort.__init__(self)\n",
    "        \n",
    "    def get_reflected_wave(self, a, i_s=0):\n",
    "        self.a = a\n",
    "        self.b = a - 2*R_p*i_s\n",
    "        return self.b"
   ]
  },
  {
   "cell_type": "markdown",
   "metadata": {},
   "source": [
    "### Resistive Voltage Source\n",
    "An ideal voltage source with voltage $v_s$ connected in series with a resistor R will give us a linear resistive voltage source. Kirchoff's voltage law gives:\n",
    "\n",
    "\\begin{align}\n",
    "v & = v_s + R_s i \\\\ \n",
    "b & = 2v - a \\\\ \n",
    "  & = 2(v_s + R_s i) - a \\\\\n",
    "  & = 2v_s + \\frac{2 R_s}{2R_p}(a - b) - a\n",
    "\\end{align}\n",
    "\n",
    "We can see that again we have a delay-free loop. If $R_p = R_s$ is chosen to be the port resistance then the reflected wave is\n",
    "\n",
    "$$ b = v_s $$ \n",
    "\n",
    "![](files/images/resistive_volt.png)"
   ]
  },
  {
   "cell_type": "code",
   "execution_count": 317,
   "metadata": {
    "collapsed": true
   },
   "outputs": [],
   "source": [
    "class ResistiveVoltageSource(WDFOnePort):\n",
    "    def __init__(self, Rs):\n",
    "        WDFOnePort.__init__(self)\n",
    "        self.Rp = Rs\n",
    "    \n",
    "    def get_reflected_wave(self, a, v_s=0):\n",
    "        self.a = a\n",
    "        self.b = v_s\n",
    "        return self.b"
   ]
  },
  {
   "cell_type": "markdown",
   "metadata": {},
   "source": [
    "### Resistive Current Source\n",
    "A resistive current source is essentially an ideal current source with source current $i_s$ connected in parallel with a resistor $R$. The voltage over the resistor is quantified by $v = (i - i_s)R$ where $i$ is the current flowing into the port. We now have:\n",
    "\n",
    "\\begin{align}\n",
    "b & = a - 2 R_p i \\\\ \n",
    "  & = a - 2 R_p \\frac{v}{R_s} + i_s R_p \\\\ \n",
    "  & = a - \\frac{R_p}{R_s}(a + b) + 2 i_s R_p \n",
    "\\end{align}\n",
    "\n",
    "Again if we choose to have $R_p = R_s$ then we can break up the delay-free loop and obtain the following equation:\n",
    "\n",
    "$$ b = R_s i_s $$\n",
    "\n",
    "![](files/images/resistive_current.png)"
   ]
  },
  {
   "cell_type": "code",
   "execution_count": 318,
   "metadata": {
    "collapsed": true
   },
   "outputs": [],
   "source": [
    "class ResistiveCurrentSource(WDFOnePort):\n",
    "    def __init__(self, R):\n",
    "        WDFOnePort.__init__(self)\n",
    "        self.Rp = R\n",
    "    \n",
    "    def get_reflected_wave(self, a, i_s=0):\n",
    "        self.a = a\n",
    "        self.b = self.Rp*i_s\n",
    "        return self.b"
   ]
  },
  {
   "cell_type": "markdown",
   "metadata": {},
   "source": [
    "# Adaptors\n",
    "Now that we have a couple of one port elements laid out we need a way to connect them together. Historically circuits that have been simulated using WDFs have been connected in some seperable series and/or parallel conjunction. That is why we start by deriving series and parallel adaptors.\n",
    "\n",
    "### Two-port simple adaptors\n",
    "#### Series\n",
    "Two port series adaptors are described by the following two equations:\n",
    "\n",
    "\\begin{align}\n",
    "0   & = v_1 + v_2 \\\\ \n",
    "i_1 & = i_2 = i_J\n",
    "\\end{align}\n",
    "\n",
    "where $i_J$ is the current flowing into the junction.\n",
    "\n",
    "\\begin{align}\n",
    "0   & = v_1 + v_2 = \\frac{1}{2}(a_1 + b_1) + \\frac{1}{2}(a_2 + b_2) \\\\ \n",
    "b_1 & = \\underline{-(a_2 + a_1) - b_2}\n",
    "\\end{align}\n",
    "\n",
    "\\begin{align}\n",
    "0 & = i_2 - i_1 = \\frac{1}{2R_2}(a_2 - b_2) - \\frac{1}{2R_1}(a_1 - b_1) \\\\ \n",
    "  & = a_2 - b_2 - \\frac{R_2}{R_1}(a_1 - b_1) \\\\\n",
    "b_2 & = \\frac{R_1 - R_2}{R_1 + R_2}a_2 - \\frac{2R_2}{R_1 + R_2}a_1 \\\\\n",
    "    & = \\underline{-a_1 + \\gamma(a_1 + a_2)}\n",
    "\\end{align}\n",
    "\n",
    "where $\\gamma = \\frac{R_1 - R_2}{R_1 + R_2}$ is the [reflection coefficient](https://en.wikipedia.org/wiki/Reflection_coefficient) with a negative sign. Now we can get the reflected wave at port 1.\n",
    "\n",
    "\\begin{align}\n",
    "b_1 & = -a_2 + \\gamma(a_1 + a_2) \\\\\n",
    "b_2 & = -a_1 + \\gamma(a_1 + a_2)\n",
    "\\end{align}\n",
    "\n",
    "![](files/images/series_2port.png)\n",
    "\n",
    "#### Parallel\n",
    "We can derive the scattering relationship for parallel adaptors in a similar fashion. Conversely to the series adaptor the currents in the parallel adaptor sum up to zero but the voltages are all equal.\n",
    "\n",
    "\\begin{align}\n",
    "0   & = i_1 + i_2 \\\\ \n",
    "v_1 & = v_2 = v_J \n",
    "\\end{align}\n",
    "\n",
    "where $v_J$ is defined as the voltage at the junction. Now we can use the definition of the wave variables and derive the relationship of reflected waves to the incident ones:\n",
    "\n",
    "\\begin{align}\n",
    "0   & = i_1 + i_2 \\\\\n",
    "    & = \\frac{1}{2R_1}(a_1 - b_1) +  \\frac{1}{2R_2}(a_2 - b_2) \\\\\n",
    "    & = R_2(a_1 - b_1) + R_1(a_2 - b_2) \\\\ \n",
    "b_1 & = a_1 + \\frac{R_1}{R_2}a_2 - \\frac{R_1}{R_2}b_2 \n",
    "\\end{align}\n",
    "\n",
    "Next we use the voltage relationship for series adaptors.\n",
    "\n",
    "\\begin{align}\n",
    "0 & = v_2 - v_1 = \\frac{1}{2}(a_2 + b_2) - \\frac{1}{2}(a_1 + b_1) \\\\\n",
    "  & = -a_1 + a_2 \\frac{R_2 - R_1}{2 R_2} + b_2 \\frac{R_2 + R_1}{2 R_2} \\\\ \n",
    "b_2 & = \\frac{2 R_2}{R_1 + R_2} a_1 - \\frac{-R_1 + R_2}{R_1 + R_2} a_2\\\\\n",
    "    & = \\underline{a_1 + \\gamma (a_2 - a_1)}\n",
    "\\end{align}\n",
    "\n",
    "\n",
    "\\begin{align}\n",
    "b_1 & = a_1 + \\frac{R_1}{R_2}a_2 - \\frac{R_1}{R_2}b_2 \\\\ \n",
    "    & = a_1(1 - \\frac{2 R_1}{R_1 + R_2}) + a_2(\\frac{R_1}{R_2} - \\frac{R_1}{R_2}\\frac{R_1 - R_2}{R_1 + R_2}) \\\\ \n",
    "    & = \\underline{a_2 + \\gamma(a_2 - a_1)}\n",
    "\\end{align}\n",
    "\n",
    "Which boils down to.\n",
    "\n",
    "\n",
    "\\begin{align}\n",
    "b_1 & = a_2 + \\gamma(a_2 - a_1) \\\\ \n",
    "b_2 & = a_1 + \\gamma (a_2 - a_1)\n",
    "\\end{align}\n",
    "\n",
    "![](files/images/parallel_2port.png)\n",
    "\n",
    "---\n",
    "\n",
    "Putting it together in vector format further shows us that we have a scattering matrix in 2D space. In the case of a parallel adaptor we have:\n",
    "\n",
    "\\begin{equation}\n",
    "\\begin{matrix}\\begin{pmatrix}b_1 \\\\ b_2 \\end{pmatrix} \\end{matrix}\n",
    "\\begin{pmatrix} -\\gamma & 1 + \\gamma \\\\ 1 - \\gamma & \\gamma \\end{pmatrix}\n",
    "\\begin{matrix}\\begin{pmatrix}a_1 \\\\ a_2 \\end{pmatrix} \\end{matrix}\n",
    "\\end{equation}\n",
    "\n",
    "And for the series adaptor we have:\n",
    "\n",
    "\\begin{equation}\n",
    "\\begin{matrix}\\begin{pmatrix}b_1 \\\\ b_2 \\end{pmatrix} \\end{matrix} =\n",
    "\\begin{pmatrix} \\gamma & 1 - \\gamma \\\\ 1 - \\gamma & \\gamma \\end{pmatrix}\n",
    "\\begin{matrix}\\begin{pmatrix}a_1 \\\\ a_2 \\end{pmatrix} \\end{matrix}\n",
    "\\end{equation}"
   ]
  },
  {
   "cell_type": "code",
   "execution_count": 319,
   "metadata": {
    "collapsed": false
   },
   "outputs": [],
   "source": [
    "def parallel_adaptor2(a1, Rp1, a2, Rp2):\n",
    "    gamma = (Rp1 - Rp2) / (Rp1 + Rp2)\n",
    "    S = np.array(((-gamma, 1+gamma), (1-gamma, gamma)))\n",
    "    b1, b2 = np.dot(S, np.array((a1, a2)))\n",
    "    \n",
    "    return b1, b2\n",
    "\n",
    "def series_adaptor2(a1, Rp1, a2, Rp2):\n",
    "    gamma = (Rp1 - Rp2) / (Rp1 + Rp2)\n",
    "    S = np.array(((gamma, 1-gamma), (1-gamma, gamma)))\n",
    "    b1, b2 = np.dot(S, np.array((a1, a2)))\n",
    "    \n",
    "    return b1, b2"
   ]
  },
  {
   "cell_type": "markdown",
   "metadata": {},
   "source": [
    "### N-port adaptors\n",
    "Although N-port simple adaptors can always be broken up into 2- and 3-port adaptors we will still carry out the derivation for a variable N-port adaptors.\n",
    "\n",
    "#### Series\n",
    "As in the case of a 2-port series adaptor the adaptor is described by voltages and currents at each port.\n",
    "\n",
    "\\begin{align}\n",
    "0   & = v_1 + v_2 + \\dots + v_N \\\\ \n",
    "i_1 & = i_2 = \\dots = i_N\n",
    "\\end{align}\n",
    "\n",
    "So now we can start working...\n",
    "\n",
    "\\begin{align}\n",
    "0 & = v_1 + v_2 + \\dots + v_N = (a_1 - R_1 i_1) + (a_2 - R_2 i_2) + \\dots + (a_N - R_N i_N) \\\\  \n",
    "  & = a_1 + a_2 + \\dots + a_N - i \\cdot (R_1 + R_2 + \\dots + R_N) \\\\\n",
    "i   & = i_i = \\frac{1}{2 R_i}(a_i - b_i) = \\frac{1}{R_1 + R_2 + \\dots + R_N}(a_1 + a_2 + \\dots + a_N) \\\\ \n",
    "b_i & = a_i - \\frac{2 R_i}{R_1 + R_2 + \\dots + R_N}(a_1 + a_2 + \\dots + a_N)\n",
    "\\end{align}\n",
    "\n",
    "\n",
    "#### Parallel\n",
    "To save space and simplify calculations I put $G_i = \\frac{1}{R_i}$. The same equations as for the 2-port parallel adaptor apply, only extended to the N-port case.\n",
    "\n",
    "\\begin{align}\n",
    "0   & = i_1 + i_2 + \\dots + i_N \\\\ \n",
    "v_1 & = v_2 = \\dots = v_N = v\n",
    "\\end{align}\n",
    "\n",
    "Which can be used to find a relationship between incident and reflected waves.\n",
    "\n",
    "\\begin{align}\n",
    "0 & = i_1 + i_2 + \\dots + i_N = G_1(a_1 - v) + G_2(a_2 - v) + \\dots + G_N(a_N - v) \\\\\n",
    "v & = v_i =  \\frac{1}{2}(a_i + b_i) = \\frac{1}{G_1 + G_2 + \\dots + G_N}(G_1 a_1 + G_2 a_2 + \\dots + G_N a_N) \n",
    "\\end{align}\n",
    "\n",
    "The algebra now places out in the following way\n",
    "\n",
    "\\begin{align}\n",
    "b_i & = \\frac{2}{G_1 + G_2 + \\dots + G_N}(G_1 a_1 + G_2 a_2 + \\dots + G_N a_N) - a_i \\\\\n",
    "    & =  \\gamma_1 a_1 + \\gamma_2 a_2 + \\dots + \\gamma_N a_N - a_i\n",
    "\\end{align}\n",
    "\n",
    "where $\\gamma_i$ is traditionally defined as\n",
    "\n",
    "$$ \\gamma_i = \\frac{2 \\cdot G_i}{G_1 + G_2 + \\dots + G_N} $$\n",
    "\n",
    "\n",
    "#### Example of 3-port adaptors\n",
    "![](files/images/series_3port.png)\n",
    "\n",
    "\n",
    "![](files/images/parallel_3port.png)\n",
    "\n",
    "---\n",
    "## Adapting adaptor ports\n",
    "When connecting two adaptors together a question rises. Which port resistance should we choose? The answer is simple. Take the port which is farther away from the root of the resulting SPQR tree and [match the impedence](https://en.wikipedia.org/wiki/Impedance_matching) of the port facing root to the other ports of the adaptors. The matching is dependent on the type of adaptor you have. For series adaptors you sum up the resitances and for parallel adaptors you sum the conductances and inverse them.\n",
    "\n",
    "### Examples\n",
    "Say you have a 3-port series adaptor and would like to adapt port 1. Then the port resistance there becomes\n",
    "\n",
    "\\begin{align}\n",
    "R_1 &= R_2 + R_3\n",
    "\\end{align}\n",
    "\n",
    "and the reflected wave at that port thus $b_1 = -a_2 - a_3$.\n",
    "\n",
    "The same procedure applied for a 3-port parallel adaptor. The port resistance at port 1 becomes:\n",
    "\n",
    "\\begin{align}\n",
    "R_1 &= \\frac{1}{1/R_2 + 1/R_3}\n",
    "\\end{align}\n",
    "\n",
    "and the reflected wave is then\n",
    "\n",
    "\\begin{align}\n",
    "b_1 &= \\frac{G_2}{G_2 + G_3}a_2 + \\frac{G_3}{G_2 + G_3}a_3\n",
    "\\end{align}\n",
    "\n",
    "We note this by placing a line perpendicular to the adapted port. Below are examples of two 3-port adaptors with port 1 adapted.\n",
    "\n",
    "![](files/images/series_3port_adapted.png)\n",
    "\n",
    "\n",
    "![](files/images/parallel_3port_adapted.png)"
   ]
  },
  {
   "cell_type": "code",
   "execution_count": 320,
   "metadata": {
    "collapsed": false
   },
   "outputs": [],
   "source": [
    "def series_adaptor(A, R):\n",
    "    Rtot = np.sum(R)\n",
    "    Atot = np.sum(A)\n",
    "    return [a - 2*r / Rtot * Atot for a, r in zip(A, R)]\n",
    "\n",
    "def parallel_adaptor(A, R):\n",
    "    G = [1/r for r in R]\n",
    "    Gtot = np.sum(G)\n",
    "    Gamma = [2*g / Gtot for g in G]\n",
    "    aDotGamma = np.dot(A, Gamma)\n",
    "    return [aDotGamma - a for a in A]"
   ]
  },
  {
   "cell_type": "markdown",
   "metadata": {},
   "source": [
    "\n",
    "# On computability\n",
    "To simplify the simulation of a WD structure a [SPQR tree](https://en.wikipedia.org/wiki/SPQR_tree) has proven to be useful tool. A SPQR tree is an extension of a Binary Computation Tree. It allows for conncetions of R-type adaptors which can have more than one parent and child. In a SPQR tree, the leaves represent components or adaptors and branches represent the connections between them.\n",
    "\n",
    "At each computation cycle the reflected waves from the leaves are calculated and propageted towards the root of the tree. At the root of the tree the resulting incident wave is used to calculate the reflected wave and it is then propagated back down the tree. Then outputs are gathered and values in reactive components are stored for use in next computation cycle. \n",
    "\n",
    "One computation cycle can be simplified down to the following steps:\n",
    "\n",
    "1. Collect waves from root-facing leaf nodes.\n",
    "2. Wave up: Propagate waves up through the adaptor nodes\n",
    "3. Calculate reflected wave at root node.\n",
    "4. Wave down: Propagate reflected wave down the tree.\n",
    "5. Gather outputs and store states.\n",
    "\n",
    "To see how a WDF structure is *shaken* into a SPQR tree it is best to see the examples below."
   ]
  },
  {
   "cell_type": "markdown",
   "metadata": {},
   "source": [
    "# Examples\n",
    "\n",
    "Now that we have the basic bits and pieces laid out we can start simulating reference circuits. The wave variables in the code use the following naming convention: awxy or bwxy are waves facing adaptors, where w=s/p for series/parallel adaptor, x=number of adaptor if other adaptors in structure, y=port number (as shown in derivation)."
   ]
  },
  {
   "cell_type": "markdown",
   "metadata": {},
   "source": [
    "# Resistive voltage source in series with RC\n",
    "\n",
    "## Reference circuit\n",
    "![](files/images/reference_circuit_series_RC.png)\n",
    "\n",
    "## WDF derivation\n",
    "![](files/images/wdf_series_RC.png)\n",
    "\n",
    "## SPQR tree\n",
    "![](files/images/spqr_series_RC.png)"
   ]
  },
  {
   "cell_type": "code",
   "execution_count": 321,
   "metadata": {},
   "outputs": [],
   "source": [
    "import matplotlib.pyplot as plt\n",
    "import numpy as np\n",
    "f = 1000\n",
    "l = 2**14\n",
    "# x = np.arange(np.cos(2(np.pi*100)))\n",
    "# x = np.cos(2*np.pi*f*np.arange(l))\n"
   ]
  },
  {
   "cell_type": "code",
   "execution_count": 322,
   "metadata": {},
   "outputs": [
    {
     "name": "stderr",
     "output_type": "stream",
     "text": [
      "/var/folders/f3/xh405jz12hs55vqqmw2zl79w0000gn/T/ipykernel_18775/1282529839.py:35: UserWarning: Attempted to set non-positive left xlim on a log-scaled axis.\n",
      "Invalid limit will be ignored.\n",
      "  plt.xlim([np.min(f), np.max(f)])\n"
     ]
    },
    {
     "data": {
      "image/png": "[encoded data removed]",
      "text/plain": [
       "<Figure size 432x288 with 1 Axes>"
      ]
     },
     "metadata": {
      "needs_background": "light"
     },
     "output_type": "display_data"
    }
   ],
   "source": [
    "# One-port parameters.\n",
    "V1 = ResistiveVoltageSource(1)  # 1 Ohm resistive volt. source\n",
    "C1 = Capacitor(3.5e-5)          # 0.35 uF capacitor.\n",
    "R1 = Resistor(10)               # 10 Ohm resistor.\n",
    "\n",
    "# Simulation loop.\n",
    "b1, b2, b3 = 0, 0, 0\n",
    "for i in steps:\n",
    "\n",
    "    # Port resistances.\n",
    "    Rp1, Rp2, Rp3 = C1.Rp, R1.Rp, V1.Rp\n",
    "\n",
    "    # 1. Gather inputs.\n",
    "    a1 = C1.get_reflected_wave(b1)\n",
    "    a2 = R1.get_reflected_wave(0)\n",
    "    a3 = V1.get_reflected_wave(0, input[i])  # Read input signal off voltage source.\n",
    "    # 2. Wave up.\n",
    "    a  = (a1, a2, a3)\n",
    "    Rp = (Rp1, Rp2, Rp3)\n",
    "    \n",
    "    # 3. Root element / 4. Wave down.\n",
    "    b1, b2, b3 = series_adaptor(a, Rp)\n",
    "\n",
    "    # 5. Gather outputs.\n",
    "    output[i] = C1.wave_to_voltage()  # Output is voltage over C1.\n",
    "    C1.set_incident_wave(b1)          # Store new input inside Capacitor.\n",
    "\n",
    "    # capacitor resistance change due to tolerance\n",
    "    # C1.updateRp(i)\n",
    "\n",
    "\n",
    "\n",
    "# Plot frequency response of the WDF simulation.\n",
    "plot_freqz(output, title=\"RC series circuit - Frequency response\")\n",
    "\n",
    "# Plot frequency response from LTspice\n",
    "plot_ltspice_freqz(\"/Users/gusanthon/Downloads/wave_digital_notebook-master/data/series_RC.txt\", title=\"Frequency response\", out_label='V(vout)')\n",
    "\n",
    "# Show the Frequency response\n",
    "plt.legend(**legend_style)\n",
    "plt.show()\n"
   ]
  },
  {
   "cell_type": "code",
   "execution_count": 349,
   "metadata": {},
   "outputs": [
    {
     "name": "stderr",
     "output_type": "stream",
     "text": [
      "/var/folders/f3/xh405jz12hs55vqqmw2zl79w0000gn/T/ipykernel_18775/1956726997.py:27: RuntimeWarning: divide by zero encountered in log\n",
      "  logR_Is_overVT = np.log(R_Is_overVT)\n",
      "/var/folders/f3/xh405jz12hs55vqqmw2zl79w0000gn/T/ipykernel_18775/1282529839.py:35: UserWarning: Attempted to set non-positive left xlim on a log-scaled axis.\n",
      "Invalid limit will be ignored.\n",
      "  plt.xlim([np.min(f), np.max(f)])\n"
     ]
    },
    {
     "data": {
      "image/png": "[encoded data removed]",
      "text/plain": [
       "<Figure size 432x288 with 1 Axes>"
      ]
     },
     "metadata": {
      "needs_background": "light"
     },
     "output_type": "display_data"
    },
    {
     "name": "stdout",
     "output_type": "stream",
     "text": [
      "[0.00000000e+00 5.85937500e+00 1.17187500e+01 ... 4.79824219e+04\n",
      " 4.79882812e+04 4.79941406e+04]\n"
     ]
    },
    {
     "data": {
      "image/png": "[encoded data removed]",
      "text/plain": [
       "<Figure size 432x288 with 1 Axes>"
      ]
     },
     "metadata": {
      "needs_background": "light"
     },
     "output_type": "display_data"
    }
   ],
   "source": [
    "from scipy.fft import fft, fftfreq\n",
    "\n",
    "# One-port parameters.\n",
    "V1 = ResistiveVoltageSource(1)  # 1 Ohm resistive volt. source\n",
    "C1 = Capacitor(3.5e-5)          # 0.35 uF capacitor.\n",
    "R1 = Resistor(10)               # 10 Ohm resistor.\n",
    "D1 = Diode(R1.Rp)\n",
    "\n",
    "n = np.arange(0,N/FS,1/FS)\n",
    "x = np.cos(2 * np.pi * 10000 * n) \n",
    "y = np.zeros(x.shape)\n",
    "\n",
    "# Simulation loop.\n",
    "b1, b2, b3 = 0, 0, 0\n",
    "for i in steps:\n",
    "\n",
    "    # Port resistances.\n",
    "    Rp1, Rp2, Rp3 = D1.Rp, R1.Rp, V1.Rp\n",
    "    # 1. Gather inputs.\n",
    "    a1 = D1.get_reflected_wave(b1)\n",
    "    a2 = R1.get_reflected_wave(0)\n",
    "    # a3 = V1.get_reflected_wave(0, input[i])  # Read input signal off voltage source.\n",
    "    a3 = V1.get_reflected_wave(0, x[i]) \n",
    "    # 2. Wave up.\n",
    "    a  = (a1, a2, a3)\n",
    "    Rp = (Rp1, Rp2, Rp3)\n",
    "    \n",
    "    # 3. Root element / 4. Wave down.\n",
    "    b1, b2, b3 = series_adaptor(a, Rp)\n",
    "\n",
    "    # 5. Gather outputs.\n",
    "    # output[i] = D1.wave_to_voltage()  # Output is voltage over C1.\n",
    "    y[i] = D1.wave_to_voltage()\n",
    "    D1.set_incident_wave(b1)          # Store new input inside Capacitor.\n",
    "\n",
    "    # capacitor resistance change due to tolerance\n",
    "    # C1.updateRp(i)\n",
    "\n",
    "\n",
    "# Plot frequency response of the WDF simulation.\n",
    "plot_freqz(output, title= \"diode clipper - Frequency response\")\n",
    "\n",
    "# Plot frequency response from LTspice\n",
    "plot_ltspice_freqz(\"/Users/gusanthon/Downloads/wave_digital_notebook-master/data/series_RC.txt\", title=\"Frequency response\", out_label='V(vout)')\n",
    "\n",
    "# Show the Frequency response\n",
    "plt.legend(**legend_style)\n",
    "plt.show()\n",
    "\n",
    "yf = fft(y)\n",
    "xf = fftfreq(N, 1/FS)[:N//2]\n",
    "plt.plot(xf, 2.0/N * np.abs(yf[0:N//2]))\n",
    "plt.grid()\n",
    "plt.show()\n"
   ]
  },
  {
   "cell_type": "markdown",
   "metadata": {},
   "source": [
    "### Audio examples"
   ]
  },
  {
   "cell_type": "markdown",
   "metadata": {},
   "source": [
    "# Resistive voltage source in parellel with RC, RL branches\n",
    "\n",
    "## Reference circuit\n",
    "![](files/images/reference_circuit_parallel_RC_RL.png)\n",
    "\n",
    "## WDF derivation\n",
    "![](files/images/wdf_parallel_RC_RL.png)\n",
    "\n",
    "## SPQR tree\n",
    "![](files/images/spqr_parallel_RC_RL.png)"
   ]
  },
  {
   "cell_type": "code",
   "execution_count": 324,
   "metadata": {
    "collapsed": false
   },
   "outputs": [
    {
     "name": "stderr",
     "output_type": "stream",
     "text": [
      "/var/folders/f3/xh405jz12hs55vqqmw2zl79w0000gn/T/ipykernel_18775/1282529839.py:35: UserWarning: Attempted to set non-positive left xlim on a log-scaled axis.\n",
      "Invalid limit will be ignored.\n",
      "  plt.xlim([np.min(f), np.max(f)])\n"
     ]
    },
    {
     "data": {
      "image/png": "[encoded data removed]",
      "text/plain": [
       "<Figure size 432x288 with 1 Axes>"
      ]
     },
     "metadata": {
      "needs_background": "light"
     },
     "output_type": "display_data"
    },
    {
     "name": "stderr",
     "output_type": "stream",
     "text": [
      "/var/folders/f3/xh405jz12hs55vqqmw2zl79w0000gn/T/ipykernel_18775/1282529839.py:35: UserWarning: Attempted to set non-positive left xlim on a log-scaled axis.\n",
      "Invalid limit will be ignored.\n",
      "  plt.xlim([np.min(f), np.max(f)])\n"
     ]
    },
    {
     "data": {
      "image/png": "[encoded data removed]",
      "text/plain": [
       "<Figure size 432x288 with 1 Axes>"
      ]
     },
     "metadata": {
      "needs_background": "light"
     },
     "output_type": "display_data"
    }
   ],
   "source": [
    "# Two outputs.\n",
    "output_vout1 = np.zeros(input.size)\n",
    "output_vout2 = np.zeros(input.size)\n",
    "\n",
    "# One-port parameters.\n",
    "V1 = ResistiveVoltageSource(10)  # Voltage source with 10 Ohm series resistor.\n",
    "R2 = Resistor(10)     # 10 Ohm resistor.\n",
    "R3 = Resistor(10)     # 10 Ohm resistor.\n",
    "L1 = Inductor(1e-3)   # 1 mH Inductor.\n",
    "C1 = Capacitor(1e-3)  # 1 mF Capacitor.\n",
    "\n",
    "## Port resistances.\n",
    "\n",
    "# Series port 1.\n",
    "Rs11 = Rp1\n",
    "Rs12 = C1.Rp\n",
    "Rs13 = R2.Rp\n",
    "\n",
    "# Series port 2.\n",
    "Rs22 = R3.Rp\n",
    "Rs23 = L1.Rp\n",
    "Rs21 = Rs22 + Rs23  # Matched port.\n",
    "\n",
    "# Parallel port. \n",
    "Rp2 = V1.Rp\n",
    "Rp3 = Rs21\n",
    "Rp1 = 1 / (1/Rp2 + 1/Rp3)  # Matched port.\n",
    "\n",
    "# Simulation loop.\n",
    "ap1,  ap2,  ap3  = 0, 0, 0\n",
    "as11, as12, as13 = 0, 0, 0\n",
    "as21, as22, as23 = 0, 0, 0\n",
    "bs11, bs12, bs13 = 0, 0, 0\n",
    "bs21, bs22, bs23 = 0, 0, 0\n",
    "bp3 = 0\n",
    "for i in steps:\n",
    "    # 1. Gather inputs\n",
    "\n",
    "    as22 = R3.get_reflected_wave(bs22)\n",
    "    as23 = L1.get_reflected_wave(bs23)\n",
    "    \n",
    "    ap2 = V1.get_reflected_wave(bp3, input[i]) # Read signal from voltage source.\n",
    "    \n",
    "    as12 = C1.get_reflected_wave(bs12)\n",
    "    as13 = R2.get_reflected_wave(bs13)\n",
    "    \n",
    "    # 2. Wave up\n",
    "    as2 = (as21, as22, as23)\n",
    "    Rs2 = (Rs21, Rs22, Rs23)\n",
    "    bs21, bs22, bs23 = series_adaptor(as2, Rs2)\n",
    "    \n",
    "    ap3 = bs21\n",
    "    ap = (ap1, ap2, ap3)\n",
    "    Rp = (Rp1, Rp2, Rp3)\n",
    "    bp1, bp2, bp3 = parallel_adaptor(ap, Rp)\n",
    "    \n",
    "    as11 = bp1\n",
    "    as1 = (as11, as12, as13)\n",
    "    Rs1 = (Rs11, Rs12, Rs13)\n",
    "    bs11, bs12, bs13 = series_adaptor(as1, Rs1)\n",
    "    \n",
    "    # 3. Root / 4. Wave down.\n",
    "    ap1 = bs11\n",
    "    ap = (ap1, ap2, ap3)\n",
    "    Rp = (Rp1, Rp2, Rp3)\n",
    "    bp1, bp2, bp3 = parallel_adaptor(ap, Rp)\n",
    "    \n",
    "    as21 = bp3\n",
    "    as2 = (as21, as22, as23)\n",
    "    Rs2 = (Rs21, Rs22, Rs23)\n",
    "    bs21, bs22, bs23 = series_adaptor(as2, Rs2)\n",
    "\n",
    "    # 5. Gather outputs and store states.\n",
    "    output_vout1[i] = R2.wave_to_voltage()  # Output is voltage through R2\n",
    "    output_vout2[i] = R3.wave_to_voltage()  # Output is voltage through R3\n",
    "    \n",
    "    C1.set_incident_wave(bs12)\n",
    "    L1.set_incident_wave(bs23)\n",
    "    # C1.updateRp(i)\n",
    "\n",
    "# Plot frequency response of the WDF simulation.\n",
    "plot_freqz(output_vout1, title=\"RCL circuit, $Vout_1$ - Frequency response\")\n",
    "\n",
    "# Plot frequency response from LTspice\n",
    "plot_ltspice_freqz(\"/Users/gusanthon/Downloads/wave_digital_notebook-master/data/parallel_RC_RL_V(rc).txt\", title=\"Frequency response\", out_label='V(rc)')\n",
    "\n",
    "# Show the Frequency responses\n",
    "plt.legend(**legend_style)\n",
    "plt.show()\n",
    "\n",
    "# Plot frequency response of the WDF simulation.\n",
    "plot_freqz(output_vout2, title=\"RCL circuit, $Vout_2$ - Frequency response\")\n",
    "\n",
    "# Plot frequency response from LTspice\n",
    "plot_ltspice_freqz(\"/Users/gusanthon/Downloads/wave_digital_notebook-master/data/parallel_RC_RL_V(rl).txt\", title=\"Frequency response\", out_label='V(rl)')\n",
    "\n",
    "# Show the Frequency responses\n",
    "plt.legend(**legend_style)\n",
    "plt.show()"
   ]
  },
  {
   "cell_type": "markdown",
   "metadata": {},
   "source": [
    "# LTspice files\n",
    "* [Series RC circuit](files/spice/series_RC.asc)\n",
    "* [Parallel RC, RL circuit](files/spice/series_RC.asc)"
   ]
  }
 ],
 "metadata": {
  "kernelspec": {
   "display_name": "Python 3",
   "language": "python",
   "name": "python3"
  },
  "language_info": {
   "codemirror_mode": {
    "name": "ipython",
    "version": 3
   },
   "file_extension": ".py",
   "mimetype": "text/x-python",
   "name": "python",
   "nbconvert_exporter": "python",
   "pygments_lexer": "ipython3",
   "version": "3.9.7"
  }
 },
 "nbformat": 4,
 "nbformat_minor": 1
}
